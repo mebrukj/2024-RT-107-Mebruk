{
 "cells": [
  {
   "cell_type": "code",
   "execution_count": 2,
   "metadata": {},
   "outputs": [
    {
     "ename": "NameError",
     "evalue": "name 'bad_var' is not defined",
     "output_type": "error",
     "traceback": [
      "\u001b[1;31m---------------------------------------------------------------------------\u001b[0m",
      "\u001b[1;31mNameError\u001b[0m                                 Traceback (most recent call last)",
      "Cell \u001b[1;32mIn[2], line 6\u001b[0m\n\u001b[0;32m      4\u001b[0m \u001b[38;5;28;01mtry\u001b[39;00m:\n\u001b[0;32m      5\u001b[0m     f \u001b[38;5;241m=\u001b[39m \u001b[38;5;28mopen\u001b[39m(\u001b[38;5;124mr\u001b[39m\u001b[38;5;124m\"\u001b[39m\u001b[38;5;124mC:\u001b[39m\u001b[38;5;124m\\\u001b[39m\u001b[38;5;124mDeveloper\u001b[39m\u001b[38;5;124m\\\u001b[39m\u001b[38;5;124mtest_file.txt\u001b[39m\u001b[38;5;124m\"\u001b[39m)\n\u001b[1;32m----> 6\u001b[0m     var \u001b[38;5;241m=\u001b[39m \u001b[43mbad_var\u001b[49m\n\u001b[0;32m      7\u001b[0m     \u001b[38;5;66;03m# if f.name == 'currupt_file.txt':\u001b[39;00m\n\u001b[0;32m      8\u001b[0m     \u001b[38;5;66;03m#     raise Exception\u001b[39;00m\n\u001b[0;32m      9\u001b[0m \u001b[38;5;28;01mexcept\u001b[39;00m \u001b[38;5;167;01mFileNotFoundError\u001b[39;00m:\n",
      "\u001b[1;31mNameError\u001b[0m: name 'bad_var' is not defined"
     ]
    }
   ],
   "source": [
    "## Errors and Exceptipons\n",
    "##try:\n",
    "##        f = open('corrupt_file.txt')\n",
    "try:\n",
    "    f = open(r\"C:\\Developer\\test_file.txt\")\n",
    "    var = bad_var\n",
    "    # if f.name == 'currupt_file.txt':\n",
    "    #     raise Exception\n",
    "except FileNotFoundError:\n",
    "    print('sorry file does not exist')\n",
    "except FileNotFoundError:\n",
    "    print('sorry file does not exist')"
   ]
  },
  {
   "cell_type": "markdown",
   "metadata": {},
   "source": []
  },
  {
   "cell_type": "code",
   "execution_count": null,
   "metadata": {},
   "outputs": [],
   "source": []
  }
 ],
 "metadata": {
  "kernelspec": {
   "display_name": "Python 3",
   "language": "python",
   "name": "python3"
  },
  "language_info": {
   "codemirror_mode": {
    "name": "ipython",
    "version": 3
   },
   "file_extension": ".py",
   "mimetype": "text/x-python",
   "name": "python",
   "nbconvert_exporter": "python",
   "pygments_lexer": "ipython3",
   "version": "3.11.9"
  }
 },
 "nbformat": 4,
 "nbformat_minor": 2
}
