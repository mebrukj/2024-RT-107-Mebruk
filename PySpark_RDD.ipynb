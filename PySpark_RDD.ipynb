{
 "cells": [
  {
   "cell_type": "code",
   "execution_count": 2,
   "metadata": {},
   "outputs": [],
   "source": [
    "import findspark\n",
    "findspark.init()\n",
    "\n",
    "import pyspark\n",
    "from pyspark.sql import SparkSession\n",
    "from pyspark import SparkConf, SparkContext"
   ]
  },
  {
   "cell_type": "code",
   "execution_count": 3,
   "metadata": {},
   "outputs": [],
   "source": [
    "import os\n",
    "import sys\n",
    "\n",
    "os.environ['PYSPARK_PYTHON'] = sys.executable\n",
    "os.environ['PYSPARK_DRIVER_PYTHON'] = sys.executable\n",
    "\n",
    "from pyspark import SparkConf, SparkContext\n",
    "conf = SparkConf()\n",
    "conf.setMaster(\"local\").setAppName(\"Spark Example App\")\n",
    "sc = SparkContext.getOrCreate(conf)\n"
   ]
  },
  {
   "cell_type": "code",
   "execution_count": 4,
   "metadata": {},
   "outputs": [],
   "source": [
    "from pyspark.sql import SparkSession\n",
    "##session = SparkSession.builder.getOrCreate()\n",
    "\n",
    "##from pyspark import SparkConf, SparkContext\n",
    "##conf = SparkConf()\n",
    "##conf.setMaster(\"local\").setAppName(\"Spark Example App\")\n",
    "##sc = SparkContext.getOrCreate(conf)\n",
    "##print(sc.appName)\n",
    "\n"
   ]
  },
  {
   "cell_type": "code",
   "execution_count": 1,
   "metadata": {},
   "outputs": [
    {
     "name": "stdout",
     "output_type": "stream",
     "text": [
      "Name: pyspark\n",
      "Version: 3.5.1\n",
      "Summary: Apache Spark Python API\n",
      "Home-page: https://github.com/apache/spark/tree/master/python\n",
      "Author: Spark Developers\n",
      "Author-email: dev@spark.apache.org\n",
      "License: http://www.apache.org/licenses/LICENSE-2.0\n",
      "Location: c:\\Users\\Learner_9ZH3Z157\\AppData\\Local\\Programs\\Python\\Python311\\Lib\\site-packages\n",
      "Requires: py4j\n",
      "Required-by: \n",
      "Note: you may need to restart the kernel to use updated packages.\n"
     ]
    }
   ],
   "source": [
    "%pip show pyspark"
   ]
  },
  {
   "cell_type": "code",
   "execution_count": 8,
   "metadata": {},
   "outputs": [
    {
     "data": {
      "text/plain": [
       "ParallelCollectionRDD[0] at readRDDFromFile at PythonRDD.scala:289"
      ]
     },
     "metadata": {},
     "output_type": "display_data"
    },
    {
     "data": {
      "text/plain": [
       "[1, 2, 3, 4, 5, 6, 7, 8, 9, 10, 11, 12]"
      ]
     },
     "metadata": {},
     "output_type": "display_data"
    }
   ],
   "source": [
    "from pyspark import SparkContext\n",
    "data = [1,2,3,4,5,6,7,8,9,10,11,12]\n",
    "rdds=sc.parallelize(data)\n",
    "display(rdds, rdds.collect())\n"
   ]
  },
  {
   "cell_type": "code",
   "execution_count": 8,
   "metadata": {},
   "outputs": [
    {
     "name": "stdout",
     "output_type": "stream",
     "text": [
      "UnionRDD[26] at union at DirectMethodHandleAccessor.java:103\n"
     ]
    },
    {
     "data": {
      "text/plain": [
       "['AMC Ambassador Brougham,13,8,360,175,3821,11,73,US,25,NewYork',\n",
       " 'AMC Ambassador SST,17,8,304,150,3672,11.5,72,US,4,DALLAS',\n",
       " 'AMC Gremlin,19,6,232,100,2634,13,71,US,78,OH',\n",
       " 'AMC Spirit DL,27.4,4,121,80,2670,15,79,US,575,OH',\n",
       " 'Audi Fox,29,4,98,83,2219,16.5,74,Europe,186,NJ',\n",
       " 'Buick Century Luxus (sw),13,8,350,150,4699,14.5,74,US,182,TEXAS',\n",
       " 'Buick Skylark,20.5,6,231,105,3425,16.9,77,US,271,DALLAS',\n",
       " 'Chevrolet Chevette,30,4,98,68,2155,16.5,78,US,311,NewYork']"
      ]
     },
     "execution_count": 8,
     "metadata": {},
     "output_type": "execute_result"
    }
   ],
   "source": [
    "from pyspark import SparkContext\n",
    "\n",
    "RDD1 = sc.textFile(\"C:\\Spark\\spark-3.5.1-bin-hadoop3\\cars.csv\")\n",
    "RDD1.take(9)\n",
    "\n",
    "\n",
    "RDD2 = RDD1.sample(False, .10)\n",
    "RDD3 = RDD1.sample(False, .10)\n",
    "RDD4 = RDD1.sample(False, .20)\n",
    "RDD5 = sc.union([RDD2,RDD3])\n",
    "RDD6 = RDD5.distinct().collect()\n",
    "RDD7 = RDD4.distinct().collect()\n",
    "print(RDD5)\n",
    "RDD5.take(8)\n",
    "\n",
    "#display(RDD1)"
   ]
  }
 ],
 "metadata": {
  "kernelspec": {
   "display_name": "Python 3",
   "language": "python",
   "name": "python3"
  },
  "language_info": {
   "codemirror_mode": {
    "name": "ipython",
    "version": 3
   },
   "file_extension": ".py",
   "mimetype": "text/x-python",
   "name": "python",
   "nbconvert_exporter": "python",
   "pygments_lexer": "ipython3",
   "version": "3.11.9"
  }
 },
 "nbformat": 4,
 "nbformat_minor": 2
}
