{
 "cells": [
  {
   "cell_type": "code",
   "execution_count": null,
   "metadata": {},
   "outputs": [],
   "source": [
    "names = [\"mariya\", \"BATMAN\", \"spongebob\"]\n",
    "new_names = []\n",
    "\n",
    "for n in names:\n",
    "    if n.islower()\n",
    "        n = n.capitalize()\n",
    "    else:\n",
    "        n = \"Relax \" + n.capitalize()\n",
    "    new_names.append(n)\n",
    "\n",
    "names = new_names\n",
    "print(names)"
   ]
  },
  {
   "cell_type": "code",
   "execution_count": null,
   "metadata": {},
   "outputs": [],
   "source": [
    "my_string = \"hi442nm233ag2\"\n",
    "\n",
    "new_string = \"\".join(\n",
    "    [ \"d\" if i==\"4\"\n",
    "      else \"e\" if i==\"2\"\n",
    "      else \"s\" if i==\"3\"\n",
    "      else i\n",
    "      for i in my_string ]\n",
    "    )\n",
    "print(new_string)"
   ]
  },
  {
   "cell_type": "code",
   "execution_count": 7,
   "metadata": {},
   "outputs": [
    {
     "name": "stdout",
     "output_type": "stream",
     "text": [
      "['APPLES', 'BANANAS', 'STRAWBERRIES']\n"
     ]
    }
   ],
   "source": [
    "fruits = [\"apples\", \"bananas\", \"strawberries\"]\n",
    "new_fruits = []\n",
    "for fruit in fruits:\n",
    "    fruit = fruit.upper()\n",
    "    new_fruits.append(fruit)\n",
    "##print fruit for fruit in fruits\n",
    "print(new_fruits)"
   ]
  },
  {
   "cell_type": "code",
   "execution_count": 9,
   "metadata": {},
   "outputs": [
    {
     "name": "stdout",
     "output_type": "stream",
     "text": [
      "['APPLES', 'BANANAS', 'STRAWBERRIES']\n"
     ]
    }
   ],
   "source": [
    "fruits = [\"apples\", \"bananas\", \"strawberries\"]\n",
    "fruits = [fruit.upper() for fruit in fruits]\n",
    "\n",
    "print(fruits)"
   ]
  },
  {
   "cell_type": "code",
   "execution_count": 10,
   "metadata": {},
   "outputs": [
    {
     "name": "stdout",
     "output_type": "stream",
     "text": [
      "[False, True, False, False, True, False, False, True]\n",
      "[0, 1, 0, 0, 1, 0, 0, 1]\n",
      "[0, 1, 0, 0, 1, 0, 0, 1]\n"
     ]
    }
   ],
   "source": [
    "bits = [False, True, False, False, True, False, False, True]\n",
    "new_bits = []\n",
    "for b in bits:\n",
    "    if b == True:\n",
    "        new_bits.append(1)\n",
    "    else:\n",
    "        new_bits.append(0)\n",
    "super_bits = [ 1 if b == True else 0 for b in bits ]\n",
    "print(bits)\n",
    "print(new_bits)\n",
    "print(super_bits)"
   ]
  },
  {
   "cell_type": "code",
   "execution_count": 16,
   "metadata": {},
   "outputs": [
    {
     "name": "stdout",
     "output_type": "stream",
     "text": [
      " Hello My Name Is Mebruk\n"
     ]
    }
   ],
   "source": [
    "## string manipulation case\n",
    "my_string = \"HelloMyNameIsMebruk\"\n",
    "my_string = \"\".join(\n",
    "    [i if i.islower() else \" \" + i for i in my_string]\n",
    ")\n",
    "print(my_string)"
   ]
  },
  {
   "cell_type": "code",
   "execution_count": 18,
   "metadata": {},
   "outputs": [
    {
     "name": "stdout",
     "output_type": "stream",
     "text": [
      "[1, 2, 'Fizz', 4, 'Buzz', 'Fizz', 7, 8, 'Fizz', 'Buzz', 11, 'Fizz', 13, 14, 'FizzBuzz', 16, 17, 'Fizz', 19, 'Buzz', 'Fizz', 22, 23, 'Fizz', 'Buzz', 26, 'Fizz', 28, 29, 'FizzBuzz', 31, 32, 'Fizz', 34, 'Buzz', 'Fizz', 37, 38, 'Fizz', 'Buzz', 41, 'Fizz', 43, 44, 'FizzBuzz', 46, 47, 'Fizz', 49, 'Buzz', 'Fizz', 52, 53, 'Fizz', 'Buzz', 56, 'Fizz', 58, 59, 'FizzBuzz', 61, 62, 'Fizz', 64, 'Buzz', 'Fizz', 67, 68, 'Fizz', 'Buzz', 71, 'Fizz', 73, 74, 'FizzBuzz', 76, 77, 'Fizz', 79, 'Buzz', 'Fizz', 82, 83, 'Fizz', 'Buzz', 86, 'Fizz', 88, 89, 'FizzBuzz', 91, 92, 'Fizz', 94, 'Buzz', 'Fizz', 97, 98, 'Fizz', 'Buzz']\n"
     ]
    }
   ],
   "source": [
    "numbers = ['FizzBuzz' if i % 3 == 0 and i % 5 == 0 else 'Fizz' if i % 3 == 0 else 'Buzz' if i % 5 == 0 else i for i in range(1,101)]\n",
    "print(numbers)"
   ]
  },
  {
   "cell_type": "code",
   "execution_count": 19,
   "metadata": {},
   "outputs": [
    {
     "name": "stdout",
     "output_type": "stream",
     "text": [
      "[('Scala', 2.13), ('Python', 3.8), ('Java', 13), ('JavaScript', 2019)]\n"
     ]
    }
   ],
   "source": [
    "prog_lang = [('Python', 3.8),\n",
    "('Java', 13),\n",
    "('JavaScript', 2019),\n",
    "('Scala', 2.13)]\n",
    "\n",
    "list_sorted = sorted(prog_lang, key=lambda x : x[1])\n",
    "print(list_sorted)"
   ]
  },
  {
   "cell_type": "code",
   "execution_count": 28,
   "metadata": {},
   "outputs": [
    {
     "name": "stdout",
     "output_type": "stream",
     "text": [
      "[('Java', 13), ('Scala', 2.13), ('Python', 3.8), ('JavaScript', 2019)]\n",
      "[('Python', 3.8), ('Java', 13), ('JavaScript', 2019), ('Scala', 2.13)]\n"
     ]
    }
   ],
   "source": [
    "prog_lang = [('Python', 3.8),\n",
    "('Java', 13),\n",
    "('JavaScript', 2019),\n",
    "('Scala', 2.13)]\n",
    "\n",
    "list_sorted = sorted(prog_lang, key=lambda x : len(x[0]))\n",
    "print(list_sorted)\n",
    "print(prog_lang)"
   ]
  },
  {
   "cell_type": "code",
   "execution_count": 29,
   "metadata": {},
   "outputs": [
    {
     "name": "stdout",
     "output_type": "stream",
     "text": [
      "[('Java', 13), ('JavaScript', 2019), ('Scala', 2.13)]\n",
      "[('Python', 3.8), ('Java', 13), ('JavaScript', 2019), ('Scala', 2.13)]\n",
      "[('Java', 13), ('JavaScript', 2019), ('Scala', 2.13)]\n"
     ]
    }
   ],
   "source": [
    "prog_lang = [('Python', 3.8),\n",
    "('Java', 13),\n",
    "('JavaScript', 2019),\n",
    "('Scala', 2.13)]\n",
    "\n",
    "list_filtered = list(filter(lambda x: 'a' in x[0], prog_lang))\n",
    "print(list_filtered)\n",
    "print(prog_lang)\n",
    "\n",
    "list_filtered2 = [i for i in prog_lang if 'a' in i[0]]\n",
    "print(list_filtered2)\n"
   ]
  },
  {
   "cell_type": "code",
   "execution_count": null,
   "metadata": {},
   "outputs": [],
   "source": [
    "# List of tuples representing (name, age) pairs\n",
    "people = [(\"Alice\", 30), (\"Bob\", 25), (\"Charlie\", 35)]\n",
    "\n",
    "# Using list comprehension to create a list of names\n",
    "names = [name for name, age in people]\n",
    "print(names)  # Output: ['Alice', 'Bob', 'Charlie']\n",
    "\n",
    "# Using list comprehension to create a list of ages\n",
    "ages = [age for name, age in people]\n",
    "print(ages)  # Output: [30, 25, 35]\n"
   ]
  },
  {
   "cell_type": "code",
   "execution_count": 36,
   "metadata": {},
   "outputs": [
    {
     "name": "stdout",
     "output_type": "stream",
     "text": [
      "<built-in method items of dict object at 0x0000021E7750B0C0>\n",
      "<class 'builtin_function_or_method'>\n",
      "Key: a, Value: 1\n",
      "Key: b, Value: 2\n",
      "Key: c, Value: 3\n",
      "[1, 2, 3]\n"
     ]
    }
   ],
   "source": [
    "# my dictionary practice using items converting it into a view object and iterating over it using list expression\n",
    "\n",
    "my_dict = {'a': 1, 'b': 2, 'c': 3}\n",
    "kpairs = my_dict.items\n",
    "print(kpairs)\n",
    "print(type(kpairs))\n",
    "# Using .items() to iterate over key-value pairs\n",
    "for key, value in my_dict.items():\n",
    "    print(f\"Key: {key}, Value: {value}\")\n",
    "print([value for key,value in my_dict.items()])\n",
    "\n"
   ]
  },
  {
   "cell_type": "code",
   "execution_count": null,
   "metadata": {},
   "outputs": [],
   "source": [
    "my_dict = {'a': 1, 'b': 2, 'c': 3}\n",
    "kpairs = my_dict.items\n",
    "print(kpairs)\n",
    "print(type(kpairs))\n",
    "# Using .items() to iterate over key-value pairs\n",
    "for key, value in my_dict.items():\n",
    "    print(f\"Key: {key}, Value: {value}\")\n",
    "print([value for key,value in my_dict.items()])\n",
    "my_dict[c].append(6)\n"
   ]
  }
 ],
 "metadata": {
  "kernelspec": {
   "display_name": "Python 3",
   "language": "python",
   "name": "python3"
  },
  "language_info": {
   "codemirror_mode": {
    "name": "ipython",
    "version": 3
   },
   "file_extension": ".py",
   "mimetype": "text/x-python",
   "name": "python",
   "nbconvert_exporter": "python",
   "pygments_lexer": "ipython3",
   "version": "3.11.9"
  }
 },
 "nbformat": 4,
 "nbformat_minor": 2
}
