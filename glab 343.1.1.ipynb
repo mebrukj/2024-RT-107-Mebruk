{
 "cells": [
  {
   "cell_type": "code",
   "execution_count": 8,
   "metadata": {},
   "outputs": [
    {
     "data": {
      "text/plain": [
       "a    0\n",
       "b    1\n",
       "c    2\n",
       "dtype: int64"
      ]
     },
     "execution_count": 8,
     "metadata": {},
     "output_type": "execute_result"
    }
   ],
   "source": [
    "import pandas as pd \n",
    "import numpy as np\n",
    "d = {\"a\": 0, \"b\": 1, \"c\": 2}\n",
    "pd.Series(d)\n",
    "##pd.series(data, index) is the form that is used in order to declare or create your one-dimensional series table\n",
    "##j = pd.Series(d)\n",
    "##j.index"
   ]
  },
  {
   "cell_type": "code",
   "execution_count": null,
   "metadata": {},
   "outputs": [],
   "source": []
  },
  {
   "cell_type": "code",
   "execution_count": 7,
   "metadata": {},
   "outputs": [
    {
     "data": {
      "text/plain": [
       "a    0.0\n",
       "b    1.0\n",
       "c    2.0\n",
       "dtype: float64"
      ]
     },
     "execution_count": 7,
     "metadata": {},
     "output_type": "execute_result"
    }
   ],
   "source": [
    "import pandas as pd\n",
    "d = {\"a\": 0.0, \"b\": 1.0, \"c\": 2.0}\n",
    "pd.Series(d)\n"
   ]
  },
  {
   "cell_type": "code",
   "execution_count": null,
   "metadata": {},
   "outputs": [],
   "source": []
  },
  {
   "cell_type": "code",
   "execution_count": 15,
   "metadata": {},
   "outputs": [
    {
     "name": "stdout",
     "output_type": "stream",
     "text": [
      "day1    420\n",
      "day2    380\n",
      "dtype: int64\n"
     ]
    }
   ],
   "source": [
    "pd.Series(d, index=['a', 'b', 'd', 'c'])\n",
    "##obviously listed as Not a Number here because there is no corresponding value for \"d\" in the data column\n",
    "\n",
    "import pandas as pd\n",
    "\n",
    "calories = {\"day1\": 420, \"day2\": 380, \"day3\": 390}\n",
    "\n",
    "myvar = pd.Series(calories)\n",
    "\n",
    "##print(myvar)\n",
    "\n",
    "##in this case, the keys of the dictionary become the labels or the indices\n",
    "##I can create a new series by only including a select number of the indices that I would like in the new series\n",
    "newSer = pd.Series(calories, index=[\"day1\", \"day2\"])\n",
    "print(newSer)"
   ]
  },
  {
   "cell_type": "code",
   "execution_count": 15,
   "metadata": {},
   "outputs": [
    {
     "name": "stdout",
     "output_type": "stream",
     "text": [
      "<class 'pandas.core.series.Series'>\n",
      "<class 'numpy.ndarray'>\n",
      "4    10\n",
      "5    15\n",
      "dtype: int32\n"
     ]
    }
   ],
   "source": [
    "##if data is a scalar value, an index must be provided, then the scalar value will be repeated for each index\n",
    "pd.Series(5.0, index=[\"a\", \"b\", \"c\", \"d\", \"e\"])\n",
    "data = np.array([10,15,20,30])\n",
    "data_series = pd.Series(data, index=[4,5,6,7])\n",
    "print(type(data_series))\n",
    "print(type(data))\n",
    "Ser1 = pd.Series(data_series, index=[4,5])\n",
    "print(Ser1)"
   ]
  },
  {
   "cell_type": "code",
   "execution_count": 11,
   "metadata": {},
   "outputs": [
    {
     "name": "stdout",
     "output_type": "stream",
     "text": [
      "0    10\n",
      "1    20\n",
      "2    30\n",
      "3    40\n",
      "4    50\n",
      "dtype: int32\n"
     ]
    }
   ],
   "source": [
    "import pandas as pd\n",
    "import numpy as np\n",
    "\n",
    "\n",
    "# Create a NumPy ndarray\n",
    "data_array = np.array([10, 20, 30, 40, 50]) ##ndarray was created using the .array function from numpy package\n",
    "# Create a Pandas Series using the ndarray\n",
    "series = pd.Series(data_array)\n",
    "# Print the Series\n",
    "print(series)"
   ]
  }
 ],
 "metadata": {
  "kernelspec": {
   "display_name": "Python 3",
   "language": "python",
   "name": "python3"
  },
  "language_info": {
   "codemirror_mode": {
    "name": "ipython",
    "version": 3
   },
   "file_extension": ".py",
   "mimetype": "text/x-python",
   "name": "python",
   "nbconvert_exporter": "python",
   "pygments_lexer": "ipython3",
   "version": "3.11.9"
  }
 },
 "nbformat": 4,
 "nbformat_minor": 2
}
