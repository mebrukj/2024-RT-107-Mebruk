{
 "cells": [
  {
   "cell_type": "code",
   "execution_count": 6,
   "metadata": {},
   "outputs": [],
   "source": [
    "class Person:\n",
    "    def __init__(self, name, sex, profession):\n",
    "        # data members (instance variables)\n",
    "        self.name = name #every person has a self.name\n",
    "        self.sex = sex #every person has a self.sex/profession/etc\n",
    "        self.profession = profession\n",
    "\n",
    "    # Behavior (instance methods) #each method here is only available for this specific class\n",
    "    def show(self): #defining a method here in which you have to pass in this person into method show\n",
    "        print('Name:', self.name, 'Sex:', self.sex, 'Profession:', self.profession)\n",
    "\n",
    "    # Behavior (instance methods)\n",
    "    def work(self):\n",
    "        print(self.name, 'working as a', self.profession)\n",
    "# init acts as a constructor for class object\n"
   ]
  },
  {
   "cell_type": "code",
   "execution_count": 7,
   "metadata": {},
   "outputs": [
    {
     "name": "stdout",
     "output_type": "stream",
     "text": [
      "Name: Mebruk Jemal Sex: Male Profession: Student\n",
      "Mebruk Jemal working as a Student\n"
     ]
    }
   ],
   "source": [
    "#create a new person by initializing\n",
    "Mebruk = Person(name = \"Mebruk Jemal\", sex=\"Male\", profession=\"Student\")\n",
    "Mebruk.show()\n",
    "Mebruk.work()"
   ]
  },
  {
   "cell_type": "code",
   "execution_count": null,
   "metadata": {},
   "outputs": [],
   "source": [
    "class Code: \n",
    "  def __init__(self, data):\n",
    "    self.data = data\n",
    "  def print_data(self):  # simple method\n",
    "    print(\"Data is\", self.data )\n",
    "\n",
    "p = Code(3) ## Instance of class. \n",
    "p.print_data()\n",
    "## __init__ is the first method that is called when you initialize an object\n",
    "## self is used to access the attribute data. \n",
    "## Methods are created inside of a class, functions are created outside of a class\n"
   ]
  }
 ],
 "metadata": {
  "kernelspec": {
   "display_name": "Python 3",
   "language": "python",
   "name": "python3"
  },
  "language_info": {
   "codemirror_mode": {
    "name": "ipython",
    "version": 3
   },
   "file_extension": ".py",
   "mimetype": "text/x-python",
   "name": "python",
   "nbconvert_exporter": "python",
   "pygments_lexer": "ipython3",
   "version": "3.11.9"
  }
 },
 "nbformat": 4,
 "nbformat_minor": 2
}
